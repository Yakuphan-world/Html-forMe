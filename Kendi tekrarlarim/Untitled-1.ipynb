{
 "cells": [
  {
   "cell_type": "code",
   "execution_count": null,
   "metadata": {},
   "outputs": [],
   "source": [
    "#rainfall_mi is a string that contains the average number of inches of rainfall in Michigan for every month (in inches) with every month separated by a comma. Write code to compute the number of months that have more than 3 inches of rainfall. Store the result in the variable num_rainy_months. In other words, count the number of items with values > 3.0.\n",
    "\n",
    "#Hard-coded answers will receive no credit.\n",
    "rainfall_mi = \"1.65, 1.46, 2.05, 3.03, 3.35, 3.46, 2.83, 3.23, 3.5, 2.52, 2.8, 1.85\"\n",
    "#rainfall_mi = int(rainfall_mi )\n",
    "rainfall_mi = rainfall_mi.split(\",\")\n",
    "# rainfall_mi = list(rainfall_mi )\n",
    "list2=list(map(float,rainfall_mi))\n",
    "num_rainy_months=0\n",
    "i=0\n",
    "for i in list2:\n",
    "    if i>3:\n",
    "        num_rainy_months+=1\n",
    "print(num_rainy_months)\n",
    "    "
   ]
  }
 ],
 "metadata": {
  "language_info": {
   "name": "python"
  },
  "orig_nbformat": 4
 },
 "nbformat": 4,
 "nbformat_minor": 2
}
