{
 "cells": [
  {
   "cell_type": "code",
   "execution_count": 1,
   "metadata": {},
   "outputs": [
    {
     "name": "stdout",
     "output_type": "stream",
     "text": [
      "{'meyve': 'armut', 'icecek': 'water', 'number': 89}\n"
     ]
    }
   ],
   "source": [
    "dictkinoay={\"meyve\":\"armut\",\n",
    "             \"icecek\": \"water\",\n",
    "             \"number\":89}\n",
    "print(dictkinoay)"
   ]
  },
  {
   "cell_type": "code",
   "execution_count": 6,
   "metadata": {},
   "outputs": [
    {
     "name": "stdout",
     "output_type": "stream",
     "text": [
      "{'meyve': 'armut', 'pi': 3.134}\n"
     ]
    }
   ],
   "source": [
    "dictkinoay={\"meyve\":\"armut\",\n",
    "             \"icecek\": \"water\",\n",
    "             \"number\":89,\n",
    "             \"pi\":3.134}\n",
    "\n",
    "del dictkinoay[\"number\"], dictkinoay[\"icecek\"]\n",
    "print(dictkinoay)"
   ]
  },
  {
   "cell_type": "code",
   "execution_count": 11,
   "metadata": {},
   "outputs": [
    {
     "name": "stdout",
     "output_type": "stream",
     "text": [
      "silinen data.... 3.134\n",
      "{'meyve': 'armut', 'icecek': 'water', 'number': 89}\n"
     ]
    }
   ],
   "source": [
    "dictkinoay={\"meyve\":\"armut\",\n",
    "             \"icecek\": \"water\",\n",
    "             \"number\":89,\n",
    "             \"pi\":3.134}\n",
    "print( \"silinen data....\" , dictkinoay.pop(\"pi\"))\n",
    "\n",
    "#del dictkinoay[\"number\"], dictkinoay[\"icecek\"]\n",
    "print(dictkinoay)"
   ]
  },
  {
   "cell_type": "code",
   "execution_count": 12,
   "metadata": {},
   "outputs": [
    {
     "name": "stdout",
     "output_type": "stream",
     "text": [
      "sözlükte böyle bir elemAN YOKTUR.\n",
      "{'meyve': 'armut', 'icecek': 'water', 'number': 89, 'pi': 3.134}\n"
     ]
    }
   ],
   "source": [
    "dictkinoay={\"meyve\":\"armut\",\n",
    "             \"icecek\": \"water\",\n",
    "             \"number\":89,\n",
    "             \"pi\":3.134}\n",
    "\n",
    "print(dictkinoay.pop(\"name\", \"sözlükte böyle bir elemAN YOKTUR.\"))\n",
    "print(dictkinoay)"
   ]
  },
  {
   "cell_type": "code",
   "execution_count": 17,
   "metadata": {},
   "outputs": [
    {
     "name": "stdout",
     "output_type": "stream",
     "text": [
      "{'meyve': 'armut', 'icecek': 'water', 'number': 89}\n"
     ]
    }
   ],
   "source": [
    "dictkinoay={\"meyve\":\"armut\",\n",
    "             \"icecek\": \"water\",\n",
    "             \"number\":89,\n",
    "             \"pi\":3.134}\n",
    "list_dict=list(dictkinoay.items())\n",
    "del list_dict[3:]\n",
    "list_dict=dict(list_dict)\n",
    "print(list_dict)"
   ]
  },
  {
   "cell_type": "code",
   "execution_count": 19,
   "metadata": {},
   "outputs": [
    {
     "name": "stdout",
     "output_type": "stream",
     "text": [
      "('pi', 3.134)\n",
      "{'meyve': 'armut', 'icecek': 'water', 'number': 89}\n"
     ]
    }
   ],
   "source": [
    "dictkinoay={\"meyve\":\"armut\",\n",
    "             \"icecek\": \"water\",\n",
    "             \"number\":89,\n",
    "             \"pi\":3.134}\n",
    "print(dictkinoay.popitem())\n",
    "\n",
    "\n",
    "print(dictkinoay)"
   ]
  },
  {
   "cell_type": "code",
   "execution_count": null,
   "metadata": {},
   "outputs": [],
   "source": [
    "dictkinoay={\"meyve\":\"armut\",\n",
    "             \"icecek\": \"water\",\n",
    "             \"number\":89,\n",
    "             \"pi\":3.134}\n",
    "\n",
    "\n",
    "print(dictkinoay)"
   ]
  },
  {
   "cell_type": "code",
   "execution_count": 21,
   "metadata": {},
   "outputs": [
    {
     "name": "stdout",
     "output_type": "stream",
     "text": [
      "{'coding': 80, 'math': 89}\n"
     ]
    }
   ],
   "source": [
    "\n",
    "\n",
    "school_records={\n",
    "\t'personal_info':\n",
    "\t\t{'kid':{'tom':{'class':'intermediate', 'age':10},\n",
    "\t\t\t'sue':{'class':'elemantary', 'age':8}\n",
    "\t\t\t},\n",
    "\t\t'teen':{'joseph':{'class':'college', 'age':19},\n",
    "\t\t\t'marry':{'class':'high school', 'age':16}\n",
    "\t\t\t},\n",
    "\t\t},\n",
    "\t'grades_info':\n",
    "\t\t{'kid':{'tom':{'math':88, 'speech':69},\n",
    "\t\t\t'sue':{'math':90, 'speech':81}\n",
    "\t\t\t},\n",
    "\t\t'teen':{'joseph':{'coding':80, 'math':89},\n",
    "\t\t\t'marry':{'coding':70, 'math':96}\n",
    "\t\t\t},\n",
    "\t\t}\n",
    "}\n",
    "print(school_records['grades_info']['teen']['joseph'])\n"
   ]
  },
  {
   "cell_type": "code",
   "execution_count": 22,
   "metadata": {},
   "outputs": [
    {
     "name": "stdout",
     "output_type": "stream",
     "text": [
      "{'friend1': {'first': 'Sue', 'last': 'Bold'}, 'friend2': {'first': 'Steve', 'last': 'Smith'}}\n"
     ]
    }
   ],
   "source": [
    "friends={\n",
    "      \"friend1\":\n",
    "      { \"first\": \"Sue\"  , \"last\": \"Bold\"\n",
    "\n",
    "      },\n",
    "      \"friend2\":\n",
    "      { \"first\":\"Steve\", \"last\":\"Smith\"\n",
    "\n",
    "      }\n",
    "}\n",
    "print(friends)"
   ]
  },
  {
   "cell_type": "code",
   "execution_count": 39,
   "metadata": {},
   "outputs": [
    {
     "name": "stdout",
     "output_type": "stream",
     "text": [
      "{'friends': {'friend1': {'first': 'Sue', 'last': 'Bold'}, 'friend2': {'first': 'Steve', 'last': 'Smith'}}, 'family': {'family1': {'first': 'steve', 'last': 'Smith'}}}\n"
     ]
    }
   ],
   "source": [
    "friends_and_family= { \"friends\":{\n",
    "      \"friend1\": { \"first\": \"Sue\"  , \"last\": \"Bold\"},\n",
    "      \"friend2\": { \"first\":\"Steve\", \"last\":\"Smith\" }\n",
    "       }   , \"family\":{\n",
    "       \"family1\":{ \"first\":\"steve\", \"last\":\"Smith\"},\n",
    "       \"family2\":{ \"first\": \"mahmut\", \"last\":\"cengiz\"},\n",
    "       }}\n",
    "del_family2 =friends_and_family[\"family\"].pop(\"family2\")\n",
    "print(friends_and_family) "
   ]
  },
  {
   "cell_type": "code",
   "execution_count": 44,
   "metadata": {},
   "outputs": [
    {
     "name": "stdout",
     "output_type": "stream",
     "text": [
      "{1: 'bir', 2: 'iki', 3: 'uc', 4: 'dört'}\n"
     ]
    }
   ],
   "source": [
    "rakam=[1,2,3,4,45,67]\n",
    "harf=[\"bir\",\"iki\",\"uc\",\"dört\"]\n",
    "zip_sozluk=dict(zip(rakam,harf))\n",
    "print(zip_sozluk)"
   ]
  },
  {
   "cell_type": "code",
   "execution_count": 46,
   "metadata": {},
   "outputs": [
    {
     "data": {
      "text/plain": [
       "'sozlukte yoktur'"
      ]
     },
     "execution_count": 46,
     "metadata": {},
     "output_type": "execute_result"
    }
   ],
   "source": [
    "sozluk={1: 'bir', 2: 'iki', 3: 'uc', 4: 'dört'}\n",
    "aranan=input(\"aramak istediginiz keyì gir...:\")\n",
    "sozluk.get(int(aranan),\"sozlukte yoktur\")"
   ]
  },
  {
   "cell_type": "code",
   "execution_count": 47,
   "metadata": {},
   "outputs": [
    {
     "name": "stdout",
     "output_type": "stream",
     "text": [
      "<class 'dict'>\n"
     ]
    }
   ],
   "source": [
    "set1={}   # bos bir sözlük\n",
    "print(type(set1))"
   ]
  },
  {
   "cell_type": "code",
   "execution_count": 50,
   "metadata": {},
   "outputs": [
    {
     "name": "stdout",
     "output_type": "stream",
     "text": [
      "set()\n"
     ]
    }
   ],
   "source": [
    "# bos küme \n",
    "set1= set()\n",
    "print(set1)"
   ]
  },
  {
   "cell_type": "code",
   "execution_count": 54,
   "metadata": {},
   "outputs": [
    {
     "name": "stdout",
     "output_type": "stream",
     "text": [
      "{'green', 'pink', 'red'}\n",
      "{'blue', 'pink', 'red'}\n"
     ]
    }
   ],
   "source": [
    "set1={\"red\",\"blue\",\"pink\",\"red\"}\n",
    "colors={\"red\",\"pink\",\"green\",\"pink\"}\n",
    "set_2=set(colors)\n",
    "print(set_2)\n",
    "print(set1)"
   ]
  },
  {
   "cell_type": "code",
   "execution_count": 58,
   "metadata": {},
   "outputs": [
    {
     "name": "stdout",
     "output_type": "stream",
     "text": [
      "{'d', 'l', 'o', 'i', 'a', 'e', 'p', 'h', 'n'}\n",
      "{'d', 'l', 'i', 'p', 'h'}\n"
     ]
    }
   ],
   "source": [
    " a=set(\"philipdeia\")\n",
    " b=set(\"dolphin\")\n",
    " print(a|b)\n",
    " print(a&b)"
   ]
  },
  {
   "cell_type": "code",
   "execution_count": 66,
   "metadata": {},
   "outputs": [
    {
     "name": "stdout",
     "output_type": "stream",
     "text": [
      "Tamamen örtüsen eleman var\n"
     ]
    }
   ],
   "source": [
    "a=set(\"alim\")\n",
    "b=set(\"doruk\")\n",
    "print(a.isdisjoint(b) and \"Tamamen farkli\"or \"Tamamen örtüsen eleman var\")"
   ]
  },
  {
   "cell_type": "code",
   "execution_count": 67,
   "metadata": {},
   "outputs": [
    {
     "name": "stdout",
     "output_type": "stream",
     "text": [
      "{1, 2, 3, 4, 5, 6, 7, 8, 9}\n"
     ]
    }
   ],
   "source": [
    "given_list=[1,2,3,4,5,5,6,7,7,7,7,7,8,9]\n",
    "given_set= set(given_list)\n",
    "print(given_set)"
   ]
  },
  {
   "cell_type": "code",
   "execution_count": 71,
   "metadata": {},
   "outputs": [
    {
     "name": "stdout",
     "output_type": "stream",
     "text": [
      "{'g', 'o', 'i', 't', 'n'}\n",
      "{'g', 'o', 'l', 'i', 't', 'a', 'e', 'w', 'c', 'W', 'h', 's', 'n'}\n",
      "{'a', 'c', 'W', 'h', 's'}\n"
     ]
    }
   ],
   "source": [
    "usa= set(\"Waschinghton\")\n",
    "new_zealand=set(\"wellington\")\n",
    "print(usa&new_zealand)\n",
    "print(usa|new_zealand)\n",
    "print(usa.difference(new_zealand))"
   ]
  },
  {
   "cell_type": "code",
   "execution_count": 73,
   "metadata": {},
   "outputs": [
    {
     "ename": "AttributeError",
     "evalue": "'frozenset' object has no attribute 'add'",
     "output_type": "error",
     "traceback": [
      "\u001b[0;31m---------------------------------------------------------------------------\u001b[0m",
      "\u001b[0;31mAttributeError\u001b[0m                            Traceback (most recent call last)",
      "Cell \u001b[0;32mIn [73], line 3\u001b[0m\n\u001b[1;32m      1\u001b[0m usa\u001b[38;5;241m=\u001b[39m({\u001b[38;5;124m\"\u001b[39m\u001b[38;5;124mwashington\u001b[39m\u001b[38;5;124m\"\u001b[39m,\u001b[38;5;124m\"\u001b[39m\u001b[38;5;124mnew jersey\u001b[39m\u001b[38;5;124m\"\u001b[39m,\u001b[38;5;124m\"\u001b[39m\u001b[38;5;124mmiami\u001b[39m\u001b[38;5;124m\"\u001b[39m})\n\u001b[1;32m      2\u001b[0m usa\u001b[38;5;241m=\u001b[39m\u001b[38;5;28mfrozenset\u001b[39m(usa)\n\u001b[0;32m----> 3\u001b[0m \u001b[43musa\u001b[49m\u001b[38;5;241;43m.\u001b[39;49m\u001b[43madd\u001b[49m(\u001b[38;5;124m\"\u001b[39m\u001b[38;5;124mcorum\u001b[39m\u001b[38;5;124m\"\u001b[39m)\n\u001b[1;32m      4\u001b[0m \u001b[38;5;28mprint\u001b[39m(usa)\n",
      "\u001b[0;31mAttributeError\u001b[0m: 'frozenset' object has no attribute 'add'"
     ]
    }
   ],
   "source": [
    "usa=({\"washington\",\"new jersey\",\"miami\"})\n",
    "usa=frozenset(usa)\n",
    "usa.add(\"corum\")\n",
    "print(usa)"
   ]
  },
  {
   "cell_type": "code",
   "execution_count": 74,
   "metadata": {},
   "outputs": [
    {
     "data": {
      "text/plain": [
       "['__add__',\n",
       " '__class__',\n",
       " '__contains__',\n",
       " '__delattr__',\n",
       " '__dir__',\n",
       " '__doc__',\n",
       " '__eq__',\n",
       " '__format__',\n",
       " '__ge__',\n",
       " '__getattribute__',\n",
       " '__getitem__',\n",
       " '__getnewargs__',\n",
       " '__gt__',\n",
       " '__hash__',\n",
       " '__init__',\n",
       " '__init_subclass__',\n",
       " '__iter__',\n",
       " '__le__',\n",
       " '__len__',\n",
       " '__lt__',\n",
       " '__mod__',\n",
       " '__mul__',\n",
       " '__ne__',\n",
       " '__new__',\n",
       " '__reduce__',\n",
       " '__reduce_ex__',\n",
       " '__repr__',\n",
       " '__rmod__',\n",
       " '__rmul__',\n",
       " '__setattr__',\n",
       " '__sizeof__',\n",
       " '__str__',\n",
       " '__subclasshook__',\n",
       " 'capitalize',\n",
       " 'casefold',\n",
       " 'center',\n",
       " 'count',\n",
       " 'encode',\n",
       " 'endswith',\n",
       " 'expandtabs',\n",
       " 'find',\n",
       " 'format',\n",
       " 'format_map',\n",
       " 'index',\n",
       " 'isalnum',\n",
       " 'isalpha',\n",
       " 'isascii',\n",
       " 'isdecimal',\n",
       " 'isdigit',\n",
       " 'isidentifier',\n",
       " 'islower',\n",
       " 'isnumeric',\n",
       " 'isprintable',\n",
       " 'isspace',\n",
       " 'istitle',\n",
       " 'isupper',\n",
       " 'join',\n",
       " 'ljust',\n",
       " 'lower',\n",
       " 'lstrip',\n",
       " 'maketrans',\n",
       " 'partition',\n",
       " 'removeprefix',\n",
       " 'removesuffix',\n",
       " 'replace',\n",
       " 'rfind',\n",
       " 'rindex',\n",
       " 'rjust',\n",
       " 'rpartition',\n",
       " 'rsplit',\n",
       " 'rstrip',\n",
       " 'split',\n",
       " 'splitlines',\n",
       " 'startswith',\n",
       " 'strip',\n",
       " 'swapcase',\n",
       " 'title',\n",
       " 'translate',\n",
       " 'upper',\n",
       " 'zfill']"
      ]
     },
     "execution_count": 74,
     "metadata": {},
     "output_type": "execute_result"
    }
   ],
   "source": [
    "dir(str)"
   ]
  },
  {
   "cell_type": "code",
   "execution_count": 75,
   "metadata": {},
   "outputs": [
    {
     "data": {
      "text/plain": [
       "['__and__',\n",
       " '__class__',\n",
       " '__class_getitem__',\n",
       " '__contains__',\n",
       " '__delattr__',\n",
       " '__dir__',\n",
       " '__doc__',\n",
       " '__eq__',\n",
       " '__format__',\n",
       " '__ge__',\n",
       " '__getattribute__',\n",
       " '__gt__',\n",
       " '__hash__',\n",
       " '__iand__',\n",
       " '__init__',\n",
       " '__init_subclass__',\n",
       " '__ior__',\n",
       " '__isub__',\n",
       " '__iter__',\n",
       " '__ixor__',\n",
       " '__le__',\n",
       " '__len__',\n",
       " '__lt__',\n",
       " '__ne__',\n",
       " '__new__',\n",
       " '__or__',\n",
       " '__rand__',\n",
       " '__reduce__',\n",
       " '__reduce_ex__',\n",
       " '__repr__',\n",
       " '__ror__',\n",
       " '__rsub__',\n",
       " '__rxor__',\n",
       " '__setattr__',\n",
       " '__sizeof__',\n",
       " '__str__',\n",
       " '__sub__',\n",
       " '__subclasshook__',\n",
       " '__xor__',\n",
       " 'add',\n",
       " 'clear',\n",
       " 'copy',\n",
       " 'difference',\n",
       " 'difference_update',\n",
       " 'discard',\n",
       " 'intersection',\n",
       " 'intersection_update',\n",
       " 'isdisjoint',\n",
       " 'issubset',\n",
       " 'issuperset',\n",
       " 'pop',\n",
       " 'remove',\n",
       " 'symmetric_difference',\n",
       " 'symmetric_difference_update',\n",
       " 'union',\n",
       " 'update']"
      ]
     },
     "execution_count": 75,
     "metadata": {},
     "output_type": "execute_result"
    }
   ],
   "source": [
    "dir(set)"
   ]
  },
  {
   "cell_type": "code",
   "execution_count": 77,
   "metadata": {},
   "outputs": [
    {
     "data": {
      "text/plain": [
       "['__add__',\n",
       " '__class__',\n",
       " '__contains__',\n",
       " '__delattr__',\n",
       " '__dir__',\n",
       " '__doc__',\n",
       " '__eq__',\n",
       " '__format__',\n",
       " '__ge__',\n",
       " '__getattribute__',\n",
       " '__getitem__',\n",
       " '__getnewargs__',\n",
       " '__gt__',\n",
       " '__hash__',\n",
       " '__init__',\n",
       " '__init_subclass__',\n",
       " '__iter__',\n",
       " '__le__',\n",
       " '__len__',\n",
       " '__lt__',\n",
       " '__mod__',\n",
       " '__mul__',\n",
       " '__ne__',\n",
       " '__new__',\n",
       " '__reduce__',\n",
       " '__reduce_ex__',\n",
       " '__repr__',\n",
       " '__rmod__',\n",
       " '__rmul__',\n",
       " '__setattr__',\n",
       " '__sizeof__',\n",
       " '__str__',\n",
       " '__subclasshook__',\n",
       " 'capitalize',\n",
       " 'casefold',\n",
       " 'center',\n",
       " 'count',\n",
       " 'encode',\n",
       " 'endswith',\n",
       " 'expandtabs',\n",
       " 'find',\n",
       " 'format',\n",
       " 'format_map',\n",
       " 'index',\n",
       " 'isalnum',\n",
       " 'isalpha',\n",
       " 'isascii',\n",
       " 'isdecimal',\n",
       " 'isdigit',\n",
       " 'isidentifier',\n",
       " 'islower',\n",
       " 'isnumeric',\n",
       " 'isprintable',\n",
       " 'isspace',\n",
       " 'istitle',\n",
       " 'isupper',\n",
       " 'join',\n",
       " 'ljust',\n",
       " 'lower',\n",
       " 'lstrip',\n",
       " 'maketrans',\n",
       " 'partition',\n",
       " 'removeprefix',\n",
       " 'removesuffix',\n",
       " 'replace',\n",
       " 'rfind',\n",
       " 'rindex',\n",
       " 'rjust',\n",
       " 'rpartition',\n",
       " 'rsplit',\n",
       " 'rstrip',\n",
       " 'split',\n",
       " 'splitlines',\n",
       " 'startswith',\n",
       " 'strip',\n",
       " 'swapcase',\n",
       " 'title',\n",
       " 'translate',\n",
       " 'upper',\n",
       " 'zfill']"
      ]
     },
     "execution_count": 77,
     "metadata": {},
     "output_type": "execute_result"
    }
   ],
   "source": [
    "dir(str)"
   ]
  },
  {
   "cell_type": "code",
   "execution_count": null,
   "metadata": {},
   "outputs": [],
   "source": []
  }
 ],
 "metadata": {
  "kernelspec": {
   "display_name": "Python 3.10.7 64-bit",
   "language": "python",
   "name": "python3"
  },
  "language_info": {
   "codemirror_mode": {
    "name": "ipython",
    "version": 3
   },
   "file_extension": ".py",
   "mimetype": "text/x-python",
   "name": "python",
   "nbconvert_exporter": "python",
   "pygments_lexer": "ipython3",
   "version": "3.10.7"
  },
  "orig_nbformat": 4,
  "vscode": {
   "interpreter": {
    "hash": "aee8b7b246df8f9039afb4144a1f6fd8d2ca17a180786b69acc140d282b71a49"
   }
  }
 },
 "nbformat": 4,
 "nbformat_minor": 2
}
